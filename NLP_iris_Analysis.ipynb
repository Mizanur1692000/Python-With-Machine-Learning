{
 "cells": [
  {
   "cell_type": "code",
   "execution_count": 1,
   "id": "bdd8a4cd",
   "metadata": {},
   "outputs": [],
   "source": [
    "import pandas as pd\n",
    "df=pd.read_csv('iris.csv')\n",
    "df=df[:100]"
   ]
  },
  {
   "cell_type": "code",
   "execution_count": 2,
   "id": "9bab94a9",
   "metadata": {},
   "outputs": [
    {
     "data": {
      "text/plain": [
       "(100, 6)"
      ]
     },
     "execution_count": 2,
     "metadata": {},
     "output_type": "execute_result"
    }
   ],
   "source": [
    "df.shape"
   ]
  },
  {
   "cell_type": "code",
   "execution_count": 3,
   "id": "41c0a4c7",
   "metadata": {},
   "outputs": [
    {
     "data": {
      "text/html": [
       "<div>\n",
       "<style scoped>\n",
       "    .dataframe tbody tr th:only-of-type {\n",
       "        vertical-align: middle;\n",
       "    }\n",
       "\n",
       "    .dataframe tbody tr th {\n",
       "        vertical-align: top;\n",
       "    }\n",
       "\n",
       "    .dataframe thead th {\n",
       "        text-align: right;\n",
       "    }\n",
       "</style>\n",
       "<table border=\"1\" class=\"dataframe\">\n",
       "  <thead>\n",
       "    <tr style=\"text-align: right;\">\n",
       "      <th></th>\n",
       "      <th>Unnamed: 0</th>\n",
       "      <th>Sepal_Length</th>\n",
       "      <th>Sepal_Width</th>\n",
       "      <th>Petal_Length</th>\n",
       "      <th>Petal_Width</th>\n",
       "      <th>Species</th>\n",
       "    </tr>\n",
       "  </thead>\n",
       "  <tbody>\n",
       "    <tr>\n",
       "      <th>0</th>\n",
       "      <td>0</td>\n",
       "      <td>5.1</td>\n",
       "      <td>3.5</td>\n",
       "      <td>1.4</td>\n",
       "      <td>0.2</td>\n",
       "      <td>Setosa</td>\n",
       "    </tr>\n",
       "    <tr>\n",
       "      <th>1</th>\n",
       "      <td>1</td>\n",
       "      <td>4.9</td>\n",
       "      <td>3.0</td>\n",
       "      <td>1.4</td>\n",
       "      <td>0.2</td>\n",
       "      <td>Setosa</td>\n",
       "    </tr>\n",
       "    <tr>\n",
       "      <th>2</th>\n",
       "      <td>2</td>\n",
       "      <td>4.7</td>\n",
       "      <td>3.2</td>\n",
       "      <td>1.3</td>\n",
       "      <td>0.2</td>\n",
       "      <td>Setosa</td>\n",
       "    </tr>\n",
       "    <tr>\n",
       "      <th>3</th>\n",
       "      <td>3</td>\n",
       "      <td>4.6</td>\n",
       "      <td>3.1</td>\n",
       "      <td>1.5</td>\n",
       "      <td>0.2</td>\n",
       "      <td>Setosa</td>\n",
       "    </tr>\n",
       "    <tr>\n",
       "      <th>4</th>\n",
       "      <td>4</td>\n",
       "      <td>5.0</td>\n",
       "      <td>3.6</td>\n",
       "      <td>1.4</td>\n",
       "      <td>0.2</td>\n",
       "      <td>Setosa</td>\n",
       "    </tr>\n",
       "  </tbody>\n",
       "</table>\n",
       "</div>"
      ],
      "text/plain": [
       "   Unnamed: 0  Sepal_Length  Sepal_Width  Petal_Length  Petal_Width Species\n",
       "0           0           5.1          3.5           1.4          0.2  Setosa\n",
       "1           1           4.9          3.0           1.4          0.2  Setosa\n",
       "2           2           4.7          3.2           1.3          0.2  Setosa\n",
       "3           3           4.6          3.1           1.5          0.2  Setosa\n",
       "4           4           5.0          3.6           1.4          0.2  Setosa"
      ]
     },
     "execution_count": 3,
     "metadata": {},
     "output_type": "execute_result"
    }
   ],
   "source": [
    "df.head()"
   ]
  },
  {
   "cell_type": "code",
   "execution_count": 4,
   "id": "1fe73ab9",
   "metadata": {},
   "outputs": [
    {
     "data": {
      "text/plain": [
       "Species\n",
       "Setosa        50\n",
       "Versicolor    50\n",
       "Name: count, dtype: int64"
      ]
     },
     "execution_count": 4,
     "metadata": {},
     "output_type": "execute_result"
    }
   ],
   "source": [
    "df['Species'].value_counts()"
   ]
  },
  {
   "cell_type": "markdown",
   "id": "54c759c7",
   "metadata": {},
   "source": [
    "# Data Visualization"
   ]
  },
  {
   "cell_type": "code",
   "execution_count": 5,
   "id": "c89ad768",
   "metadata": {},
   "outputs": [
    {
     "data": {
      "text/plain": [
       "<Axes: xlabel='Species', ylabel='count'>"
      ]
     },
     "execution_count": 5,
     "metadata": {},
     "output_type": "execute_result"
    },
    {
     "data": {
      "image/png": "[encoded data removed]",
      "text/plain": [
       "<Figure size 640x480 with 1 Axes>"
      ]
     },
     "metadata": {},
     "output_type": "display_data"
    }
   ],
   "source": [
    "import seaborn as sns\n",
    "sns.countplot(x='Species',data=df)"
   ]
  },
  {
   "cell_type": "markdown",
   "id": "19236d88",
   "metadata": {},
   "source": [
    "# Data Splitting"
   ]
  },
  {
   "cell_type": "code",
   "execution_count": 6,
   "id": "d2daba84",
   "metadata": {},
   "outputs": [],
   "source": [
    "positive_review=list(df[df['Species']=='Setosa']['Sepal_Length'])\n",
    "negative_review=list(df[df['Species']=='Versicolor']['Sepal_Width'])"
   ]
  },
  {
   "cell_type": "code",
   "execution_count": 7,
   "id": "7c376e80",
   "metadata": {},
   "outputs": [],
   "source": [
    "df_x=df['Sepal_Length']\n",
    "df_y=df['Sepal_Width']"
   ]
  },
  {
   "cell_type": "code",
   "execution_count": 8,
   "id": "ddd23edd",
   "metadata": {},
   "outputs": [],
   "source": [
    "from sklearn.model_selection import train_test_split\n",
    "\n",
    "X_train, X_test, y_train, y_test = train_test_split(df_x[:1000], df_y[:1000], test_size=0.2, random_state=0) # if we change the random state the distribution formate will be changed"
   ]
  },
  {
   "cell_type": "code",
   "execution_count": 9,
   "id": "b7c284bd",
   "metadata": {},
   "outputs": [
    {
     "data": {
      "text/plain": [
       "((80,), (20,), (80,), (20,))"
      ]
     },
     "execution_count": 9,
     "metadata": {},
     "output_type": "execute_result"
    }
   ],
   "source": [
    "X_train.shape, X_test.shape, y_train.shape, y_test.shape"
   ]
  },
  {
   "cell_type": "code",
   "execution_count": 10,
   "id": "4c7e5cef",
   "metadata": {},
   "outputs": [
    {
     "data": {
      "text/plain": [
       "Sepal_Width\n",
       "3.0    11\n",
       "3.2     7\n",
       "3.4     7\n",
       "2.9     6\n",
       "3.5     6\n",
       "2.7     5\n",
       "3.1     5\n",
       "2.5     4\n",
       "3.8     4\n",
       "2.8     3\n",
       "3.7     3\n",
       "2.4     3\n",
       "3.3     3\n",
       "2.2     2\n",
       "2.6     2\n",
       "2.3     2\n",
       "3.6     2\n",
       "2.0     1\n",
       "4.4     1\n",
       "3.9     1\n",
       "4.1     1\n",
       "4.0     1\n",
       "Name: count, dtype: int64"
      ]
     },
     "execution_count": 10,
     "metadata": {},
     "output_type": "execute_result"
    }
   ],
   "source": [
    "y_train.value_counts()"
   ]
  },
  {
   "cell_type": "code",
   "execution_count": 11,
   "id": "91772a82",
   "metadata": {},
   "outputs": [
    {
     "data": {
      "text/plain": [
       "Sepal_Width\n",
       "3.4    3\n",
       "2.8    3\n",
       "3.0    3\n",
       "3.1    2\n",
       "2.3    2\n",
       "2.9    2\n",
       "3.2    1\n",
       "3.9    1\n",
       "2.6    1\n",
       "3.6    1\n",
       "4.2    1\n",
       "Name: count, dtype: int64"
      ]
     },
     "execution_count": 11,
     "metadata": {},
     "output_type": "execute_result"
    }
   ],
   "source": [
    "y_test.value_counts()"
   ]
  },
  {
   "cell_type": "code",
   "execution_count": 12,
   "id": "6a5ebc6b",
   "metadata": {},
   "outputs": [
    {
     "data": {
      "text/plain": [
       "43    5.0\n",
       "62    6.0\n",
       "3     4.6\n",
       "71    6.1\n",
       "45    4.8\n",
       "     ... \n",
       "96    5.7\n",
       "67    5.8\n",
       "64    5.6\n",
       "47    4.6\n",
       "44    5.1\n",
       "Name: Sepal_Length, Length: 80, dtype: float64"
      ]
     },
     "execution_count": 12,
     "metadata": {},
     "output_type": "execute_result"
    }
   ],
   "source": [
    "X_train"
   ]
  },
  {
   "cell_type": "code",
   "execution_count": 13,
   "id": "1b661df7",
   "metadata": {},
   "outputs": [
    {
     "data": {
      "text/plain": [
       "26    5.0\n",
       "86    6.7\n",
       "2     4.7\n",
       "55    5.7\n",
       "75    6.6\n",
       "93    5.0\n",
       "16    5.4\n",
       "73    6.1\n",
       "54    6.5\n",
       "95    5.7\n",
       "53    5.5\n",
       "92    5.8\n",
       "78    6.0\n",
       "13    4.3\n",
       "7     5.0\n",
       "30    4.8\n",
       "22    4.6\n",
       "24    4.8\n",
       "33    5.5\n",
       "8     4.4\n",
       "Name: Sepal_Length, dtype: float64"
      ]
     },
     "execution_count": 13,
     "metadata": {},
     "output_type": "execute_result"
    }
   ],
   "source": [
    " X_test"
   ]
  },
  {
   "cell_type": "code",
   "execution_count": null,
   "id": "e3e23f09",
   "metadata": {},
   "outputs": [],
   "source": []
  }
 ],
 "metadata": {
  "kernelspec": {
   "display_name": "Python 3 (ipykernel)",
   "language": "python",
   "name": "python3"
  },
  "language_info": {
   "codemirror_mode": {
    "name": "ipython",
    "version": 3
   },
   "file_extension": ".py",
   "mimetype": "text/x-python",
   "name": "python",
   "nbconvert_exporter": "python",
   "pygments_lexer": "ipython3",
   "version": "3.11.5"
  }
 },
 "nbformat": 4,
 "nbformat_minor": 5
}
